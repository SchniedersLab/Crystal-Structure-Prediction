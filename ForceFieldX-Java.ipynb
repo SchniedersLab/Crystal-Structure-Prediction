{
 "cells": [
  {
   "cell_type": "markdown",
   "metadata": {},
   "source": [
    "## Crystal Structure Prediction Workflow Using Open Source Tools\n",
    "### PolType\n",
    "Starting from an SDF file (e.g. from PubChem), the PolType program can be used to generate AMOEBA polarizable atomic multipole parameters for organic molecules. In the near future, we will be adding support for PolType (and its dependencies) to the binder/Dockerfile. Here we supply PolType resutls for carmbazepine as an example (https://pubchem.ncbi.nlm.nih.gov/compound/Carbamazepine). \n",
    "\n",
    "For more information on PolType from the lab of Pengyu Ren at UT Austin, please visit the following webpage:\n",
    "https://github.com/pren/poltype/tree/poltype2\n",
    "\n",
    "### Convert CCDC CIF files to Tinker XYZ format\n",
    "To convert CCDC CIF files to a format compatible with AMOEBA molecular mechanics algorithms, Aaron Nessler has created a Force Field X command called \"CIFtoXYZ\". The input to this command is the CCDC CIF file, and the force field information produced by PolType. As an example, here we convert a carmbazepine file (space group P 21/c) to XYZ format."
   ]
  },
  {
   "cell_type": "code",
   "execution_count": 2,
   "metadata": {
    "colab": {},
    "colab_type": "code",
    "id": "xMwudbNPfL_a"
   },
   "outputs": [
    {
     "name": "stdout",
     "output_type": "stream",
     "text": [
      " ______________________________________________________________________________\n",
      "\n",
      "        FORCE FIELD X - Software for Molecular Biophysics \n",
      "\n",
      "        Version 1.0.0-BETA-unknown  May 2020 \n",
      "\n",
      "        Copyright (c)  Michael J. Schnieders    2001-2020 \n",
      "        Portions Copyright (c)  Timothy D. Fenn 2009-2020 \n",
      "        Portions Copyright (c)  Jacob M. Litman 2015-2020 \n",
      "\n",
      "        All Rights Reserved \n",
      "\n",
      "        Force Field X is distributed under the GPL v. 3 license\n",
      "        with linking exception and is hosted by the Schnieders Lab \n",
      "        at The University of Iowa.\n",
      "\n",
      "        For publications see    http://ffx.biochem.uiowa.edu/publications.html \n",
      "        For the GPL v.3 license http://ffx.biochem.uiowa.edu/license.html \n",
      "\n",
      " ______________________________________________________________________________\n",
      "\n",
      " Thu May 28 16:59:39 UTC 2020\n",
      " Process ID 0 on jupyter-schniederslab-2dc-2dture-2dprediction-2diprk7efj.\n",
      "\n",
      " Command line arguments:\n",
      " [test.CIFtoXYZ, CBMZPN01.cif, CBZ.xyz]\n",
      "\n",
      " Starting up the command line interface.\n",
      "\n",
      " Executing internal script: ffx.potential.groovy.test.CIFtoXYZ\n",
      "\n",
      "\n",
      " Opening CIF file CBMZPN01.cif\n",
      " Chemical component: Carbamazepine\n",
      " CIF International Tables Number: 14\n",
      "\n",
      " Unit Cell\n",
      "  A-axis:                                 7.529\n",
      "  B-axis:                                11.148\n",
      "  C-axis:                                15.470\n",
      "  Alpha:                                 90.000\n",
      "  Beta:                                 116.170\n",
      "  Gamma:                                 90.000\n",
      "  Space group\n",
      "   Number:                                   14\n",
      "   Symbol:                                P21/c\n",
      "   Number of Symmetry Operators:              4\n",
      "\n",
      " Number of atoms: 30\n",
      " Property File: /home/ffx/CBZ.properties\n",
      " Parsing: Structure properties from (/home/ffx/CBZ.properties).\n",
      " Parsing: JVM system properties (i.e. command line -Dkey=value pairs).\n",
      "\n",
      " Opening CBZ.xyz with 30 atoms\n",
      "\n",
      " Constructing Force Field UNKNOWN\n",
      "\n",
      " SMP threads:                                 1\n",
      "\n",
      " Density:                                 1.235 (g/cc)\n",
      "\n",
      " Unit Cell\n",
      "  A-axis:                                35.454\n",
      "  B-axis:                                35.454\n",
      "  C-axis:                                 5.253\n",
      "  Alpha:                                 90.000\n",
      "  Beta:                                  90.000\n",
      "  Gamma:                                120.000\n",
      "  Space group\n",
      "   Number:                                  148\n",
      "   Symbol:                                  H-3\n",
      "   Number of Symmetry Operators:             18\n",
      "\n",
      " Replicates Cell\n",
      "  Dimension:                    (  2 x  2 x  7)\n",
      "  A-axis:                                70.908\n",
      "  B-axis:                                70.908\n",
      "  C-axis:                                36.771\n",
      "  Alpha:                                 90.000\n",
      "  Beta:                                  90.000\n",
      "  Gamma:                                120.000\n",
      "  Total Symmetry Operators:                 504\n",
      "\n",
      " Bonded Terms\n",
      "  Bonds:                                     32\n",
      "  Angles:                                    51\n",
      "  Stretch-Bends:                             44\n",
      "  Out-of-Plane Bends:                         9\n",
      "  Torsions:                                  76\n",
      "  Pi-Orbital Torsions:                       14\n",
      "\n",
      " Non-Bonded Terms\n",
      "\n",
      "  Van der Waals\n",
      "   Switch Start:                         13.500 (A)\n",
      "   Cut-Off:                              15.000 (A)\n",
      "   Long-Range Correction:                false\n",
      "\n",
      "\n",
      " Opened CBZ.xyz in 0.62 sec.\n",
      "\n",
      " System Resources\n",
      "  Total CPU time:          14.48 (sec)\n",
      "  System load average:      3.68\n",
      "  Open file handles:          81 of 1048576 allowed\n",
      "  System memory:            5069 MB free out of 104747 MB\n",
      "  System swap space:           0 MB free out of      0 MB\n",
      "  JVM memory:                123 MB free out of    210 MB\n",
      "\n",
      " Saved XYZ file:        /home/ffx/CBMZPN01.xyz\n",
      "\n",
      " Saved properties file: /home/ffx/CBMZPN01.properties\n",
      "\n",
      " Script wall clock time:  4.275 (sec)\n"
     ]
    },
    {
     "data": {
      "text/plain": [
       "ffx.potential.groovy.test.CIFtoXYZ@734c411"
      ]
     },
     "execution_count": 2,
     "metadata": {},
     "output_type": "execute_result"
    }
   ],
   "source": [
    "// Convert CCDC CIF file to Tinker XYZ format.\n",
    "var cif = \"CBMZPN01.cif\";\n",
    "var xyz = \"CBZ.xyz\";\n",
    "String[] args = {\"test.CIFtoXYZ\", cif, xyz};\n",
    "ffxScript(args);"
   ]
  },
  {
   "cell_type": "code",
   "execution_count": null,
   "metadata": {},
   "outputs": [],
   "source": [
    "// Run a Force Field X Script\n",
    "String[] args = {\"Energy\", pdbID};\n",
    "ffxScript(args);"
   ]
  }
 ],
 "metadata": {
  "accelerator": "GPU",
  "colab": {
   "authorship_tag": "ABX9TyPAJdhPTSc53Z0lSjISlRNy",
   "collapsed_sections": [],
   "name": "ForceFieldX.ipynb",
   "private_outputs": true,
   "provenance": [
    {
     "file_id": "1qtAt-Q0U1GliJnVvTJ-fFgr4NsoIo_HZ",
     "timestamp": 1587655148852
    }
   ]
  },
  "kernelspec": {
   "display_name": "Java",
   "language": "java",
   "name": "java"
  },
  "language_info": {
   "codemirror_mode": "java",
   "file_extension": ".jshell",
   "mimetype": "text/x-java-source",
   "name": "Java",
   "pygments_lexer": "java",
   "version": "11.0.7+10"
  }
 },
 "nbformat": 4,
 "nbformat_minor": 4
}
